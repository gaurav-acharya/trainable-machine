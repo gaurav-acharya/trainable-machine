{
  "nbformat": 4,
  "nbformat_minor": 0,
  "metadata": {
    "colab": {
      "name": "Untitled0.ipynb",
      "provenance": [],
      "collapsed_sections": [],
      "mount_file_id": "1pTBX72Nm8KA-NNNmF7OkKcVwpmN1qFzY",
      "authorship_tag": "ABX9TyPWG4LRNdR9LoitXi7p3EVB",
      "include_colab_link": true
    },
    "kernelspec": {
      "name": "python3",
      "display_name": "Python 3"
    }
  },
  "cells": [
    {
      "cell_type": "markdown",
      "metadata": {
        "id": "view-in-github",
        "colab_type": "text"
      },
      "source": [
        "<a href=\"https://colab.research.google.com/github/gaurav-acharya/trainable-machine/blob/main/Untitled0.ipynb\" target=\"_parent\"><img src=\"https://colab.research.google.com/assets/colab-badge.svg\" alt=\"Open In Colab\"/></a>"
      ]
    },
    {
      "cell_type": "code",
      "metadata": {
        "id": "fm5IWBP_cttU"
      },
      "source": [
        "import tensorflow as tf"
      ],
      "execution_count": null,
      "outputs": []
    },
    {
      "cell_type": "code",
      "metadata": {
        "id": "Ggf7xjCddGA_",
        "colab": {
          "base_uri": "https://localhost:8080/",
          "height": 1000
        },
        "outputId": "96efbe16-0634-4741-e8bc-c874a042c17c"
      },
      "source": [
        "mnist= tf.keras.datasets.mnist\r\n",
        "(x_train,y_train), (x_test,y_test)=mnist.load_data()\r\n",
        "x_train=tf.keras.utils.normalize(x_train, axis=1)\r\n",
        "x_test=tf.keras.utils.normalize(x_test, axis=1)\r\n",
        "\r\n",
        "import matplotlib.pyplot as plt\r\n",
        "plt.imshow(x_train[1], cmap=plt.cm.binary)\r\n",
        "plt.show()\r\n",
        "#print(x_train[0])"
      ],
      "execution_count": null,
      "outputs": [
        {
          "output_type": "display_data",
          "data": {
            "image/png": "[encoded data removed]",
            "text/plain": [
              "<Figure size 432x288 with 1 Axes>"
            ]
          },
          "metadata": {
            "tags": [],
            "needs_background": "light"
          }
        },
        {
          "output_type": "stream",
          "text": [
            "[[0.         0.         0.         0.         0.         0.\n",
            "  0.         0.         0.         0.         0.         0.\n",
            "  0.         0.         0.         0.         0.         0.\n",
            "  0.         0.         0.         0.         0.         0.\n",
            "  0.         0.         0.         0.        ]\n",
            " [0.         0.         0.         0.         0.         0.\n",
            "  0.         0.         0.         0.         0.         0.\n",
            "  0.         0.         0.         0.         0.         0.\n",
            "  0.         0.         0.         0.         0.         0.\n",
            "  0.         0.         0.         0.        ]\n",
            " [0.         0.         0.         0.         0.         0.\n",
            "  0.         0.         0.         0.         0.         0.\n",
            "  0.         0.         0.         0.         0.         0.\n",
            "  0.         0.         0.         0.         0.         0.\n",
            "  0.         0.         0.         0.        ]\n",
            " [0.         0.         0.         0.         0.         0.\n",
            "  0.         0.         0.         0.         0.         0.\n",
            "  0.         0.         0.         0.         0.         0.\n",
            "  0.         0.         0.         0.         0.         0.\n",
            "  0.         0.         0.         0.        ]\n",
            " [0.         0.         0.         0.         0.         0.\n",
            "  0.         0.         0.         0.         0.         0.\n",
            "  0.         0.         0.         0.         0.         0.\n",
            "  0.         0.         0.         0.         0.         0.\n",
            "  0.         0.         0.         0.        ]\n",
            " [0.         0.         0.         0.         0.         0.\n",
            "  0.         0.         0.         0.         0.         0.\n",
            "  0.00393124 0.02332955 0.02620568 0.02625207 0.17420356 0.17566281\n",
            "  0.28629534 0.05664824 0.51877786 0.71632322 0.77892406 0.89301644\n",
            "  0.         0.         0.         0.        ]\n",
            " [0.         0.         0.         0.         0.         0.\n",
            "  0.         0.         0.05780486 0.06524513 0.16128198 0.22713296\n",
            "  0.22277047 0.32790981 0.36833534 0.3689874  0.34978968 0.32678448\n",
            "  0.368094   0.3747499  0.79066747 0.67980478 0.61494005 0.45002403\n",
            "  0.         0.         0.         0.        ]\n",
            " [0.         0.         0.         0.         0.         0.\n",
            "  0.         0.12250613 0.45858525 0.45852825 0.43408872 0.37314701\n",
            "  0.33153488 0.32790981 0.36833534 0.3689874  0.34978968 0.32420121\n",
            "  0.15214552 0.17865984 0.25626376 0.1573102  0.12298801 0.\n",
            "  0.         0.         0.         0.        ]\n",
            " [0.         0.         0.         0.         0.         0.\n",
            "  0.         0.04500225 0.4219755  0.45852825 0.43408872 0.37314701\n",
            "  0.33153488 0.32790981 0.28826244 0.26543758 0.34149427 0.31128482\n",
            "  0.         0.         0.         0.         0.         0.\n",
            "  0.         0.         0.         0.        ]\n",
            " [0.         0.         0.         0.         0.         0.\n",
            "  0.         0.         0.1541463  0.28272888 0.18358693 0.37314701\n",
            "  0.33153488 0.26569767 0.01601458 0.         0.05945042 0.19891229\n",
            "  0.         0.         0.         0.         0.         0.\n",
            "  0.         0.         0.         0.        ]\n",
            " [0.         0.         0.         0.         0.         0.\n",
            "  0.         0.         0.         0.0253731  0.00171577 0.22713296\n",
            "  0.33153488 0.11664776 0.         0.         0.         0.\n",
            "  0.         0.         0.         0.         0.         0.\n",
            "  0.         0.         0.         0.        ]\n",
            " [0.         0.         0.         0.         0.         0.\n",
            "  0.         0.         0.         0.         0.         0.20500962\n",
            "  0.33153488 0.24625638 0.00291174 0.         0.         0.\n",
            "  0.         0.         0.         0.         0.         0.\n",
            "  0.         0.         0.         0.        ]\n",
            " [0.         0.         0.         0.         0.         0.\n",
            "  0.         0.         0.         0.         0.         0.01622378\n",
            "  0.24897876 0.32790981 0.10191096 0.         0.         0.\n",
            "  0.         0.         0.         0.         0.         0.\n",
            "  0.         0.         0.         0.        ]\n",
            " [0.         0.         0.         0.         0.         0.\n",
            "  0.         0.         0.         0.         0.         0.\n",
            "  0.04586451 0.31235677 0.32757096 0.23335172 0.14931733 0.00129164\n",
            "  0.         0.         0.         0.         0.         0.\n",
            "  0.         0.         0.         0.        ]\n",
            " [0.         0.         0.         0.         0.         0.\n",
            "  0.         0.         0.         0.         0.         0.\n",
            "  0.         0.10498298 0.34940902 0.3689874  0.34978968 0.15370495\n",
            "  0.04089933 0.         0.         0.         0.         0.\n",
            "  0.         0.         0.         0.        ]\n",
            " [0.         0.         0.         0.         0.         0.\n",
            "  0.         0.         0.         0.         0.         0.\n",
            "  0.         0.         0.06551419 0.27127137 0.34978968 0.32678448\n",
            "  0.245396   0.05882702 0.         0.         0.         0.\n",
            "  0.         0.         0.         0.        ]\n",
            " [0.         0.         0.         0.         0.         0.\n",
            "  0.         0.         0.         0.         0.         0.\n",
            "  0.         0.         0.         0.02333517 0.12857881 0.32549285\n",
            "  0.41390126 0.40743158 0.         0.         0.         0.\n",
            "  0.         0.         0.         0.        ]\n",
            " [0.         0.         0.         0.         0.         0.\n",
            "  0.         0.         0.         0.         0.         0.\n",
            "  0.         0.         0.         0.         0.         0.32161793\n",
            "  0.41390126 0.54251585 0.20001074 0.         0.         0.\n",
            "  0.         0.         0.         0.        ]\n",
            " [0.         0.         0.         0.         0.         0.\n",
            "  0.         0.         0.         0.         0.         0.\n",
            "  0.         0.         0.06697006 0.18959827 0.25300993 0.32678448\n",
            "  0.41390126 0.45100715 0.00625034 0.         0.         0.\n",
            "  0.         0.         0.         0.        ]\n",
            " [0.         0.         0.         0.         0.         0.\n",
            "  0.         0.         0.         0.         0.         0.\n",
            "  0.05110617 0.19182076 0.33339444 0.3689874  0.34978968 0.32678448\n",
            "  0.40899334 0.39653769 0.         0.         0.         0.\n",
            "  0.         0.         0.         0.        ]\n",
            " [0.         0.         0.         0.         0.         0.\n",
            "  0.         0.         0.         0.         0.04117838 0.16813739\n",
            "  0.28960162 0.32790981 0.36833534 0.3689874  0.34978968 0.25961929\n",
            "  0.12760592 0.         0.         0.         0.         0.\n",
            "  0.         0.         0.         0.        ]\n",
            " [0.         0.         0.         0.         0.         0.\n",
            "  0.         0.         0.04431706 0.11961607 0.36545809 0.37314701\n",
            "  0.33153488 0.32790981 0.36833534 0.28877275 0.111988   0.00258328\n",
            "  0.         0.         0.         0.         0.         0.\n",
            "  0.         0.         0.         0.        ]\n",
            " [0.         0.         0.         0.         0.         0.\n",
            "  0.05298497 0.42752138 0.4219755  0.45852825 0.43408872 0.37314701\n",
            "  0.33153488 0.25273681 0.11646967 0.01312603 0.         0.\n",
            "  0.         0.         0.         0.         0.         0.\n",
            "  0.         0.         0.         0.        ]\n",
            " [0.         0.         0.         0.         0.37491383 0.56222061\n",
            "  0.66525569 0.63253163 0.48748768 0.45852825 0.43408872 0.359873\n",
            "  0.17428513 0.01425695 0.         0.         0.         0.\n",
            "  0.         0.         0.         0.         0.         0.\n",
            "  0.         0.         0.         0.        ]\n",
            " [0.         0.         0.         0.         0.92705966 0.82698729\n",
            "  0.74473314 0.63253163 0.4084877  0.24466922 0.22648107 0.02359823\n",
            "  0.         0.         0.         0.         0.         0.\n",
            "  0.         0.         0.         0.         0.         0.\n",
            "  0.         0.         0.         0.        ]\n",
            " [0.         0.         0.         0.         0.         0.\n",
            "  0.         0.         0.         0.         0.         0.\n",
            "  0.         0.         0.         0.         0.         0.\n",
            "  0.         0.         0.         0.         0.         0.\n",
            "  0.         0.         0.         0.        ]\n",
            " [0.         0.         0.         0.         0.         0.\n",
            "  0.         0.         0.         0.         0.         0.\n",
            "  0.         0.         0.         0.         0.         0.\n",
            "  0.         0.         0.         0.         0.         0.\n",
            "  0.         0.         0.         0.        ]\n",
            " [0.         0.         0.         0.         0.         0.\n",
            "  0.         0.         0.         0.         0.         0.\n",
            "  0.         0.         0.         0.         0.         0.\n",
            "  0.         0.         0.         0.         0.         0.\n",
            "  0.         0.         0.         0.        ]]\n"
          ],
          "name": "stdout"
        }
      ]
    },
    {
      "cell_type": "code",
      "metadata": {
        "colab": {
          "base_uri": "https://localhost:8080/",
          "height": 265
        },
        "id": "mGzcbMHbB6Qn",
        "outputId": "3b0445b1-60d2-4d4e-f5a6-2890135564a2"
      },
      "source": [
        "machine=tf.keras.models.Sequential()\r\n",
        "machine.add(tf.keras.layers.Flatten())\r\n",
        "plt.imshow(x_train[0])\r\n",
        "plt.show()"
      ],
      "execution_count": null,
      "outputs": [
        {
          "output_type": "display_data",
          "data": {
            "image/png": "[encoded data removed]",
            "text/plain": [
              "<Figure size 432x288 with 1 Axes>"
            ]
          },
          "metadata": {
            "tags": [],
            "needs_background": "light"
          }
        }
      ]
    },
    {
      "cell_type": "code",
      "metadata": {
        "id": "8e8tmNBJdj8G",
        "colab": {
          "base_uri": "https://localhost:8080/"
        },
        "outputId": "5182dab3-2066-40fb-9466-23fcfea6414b"
      },
      "source": [
        "import cv2\n",
        "import os\n",
        "from pathlib import Path\n",
        " \n",
        "vc = cv2.VideoCapture(0)\n",
        "print(\"Enter class name\")\n",
        "userId = input()\n",
        "className = input()\n",
        " \n",
        "count = 1\n",
        " \n",
        " \n",
        "def saveImage(image, className, userId, imgId):\n",
        " \n",
        "    Path(\"/content/drive/MyDrive/ColabNotebooks/{}\".format(className)).mkdir(parents=True, exist_ok=True)\n",
        "    cv2.imwrite(\"dataset/{}/{}_{}.jpg\".format(className, userId, imgId), image)\n",
        "    print(\"[INFO] Image {} has been saved in folder : {}\".format(\n",
        "        imgId, className))\n",
        " \n",
        " \n",
        "print(\"[INFO] Video Capture is now starting please stay still\")\n",
        " \n",
        "while True:\n",
        "    _, img=vc.read()\n",
        "    original_img = img\n",
        " \n",
        "    key = cv2.waitKey(1) & 0xFF\n",
        "    if key == ord('s'):\n",
        "        if count <= 5:\n",
        "            saveImage(original_img, className, userId, count)\n",
        "            count += 1\n",
        "        else:\n",
        "            break\n",
        "    elif key == ord('q'):\n",
        "        break\n",
        " \n",
        "print(\"[INFO] Dataset has been created for {}\".format(className))\n",
        " \n",
        "vc.release()\n",
        "cv2.destroyAllWindows()"
      ],
      "execution_count": null,
      "outputs": [
        {
          "output_type": "stream",
          "text": [
            "Enter class name\n",
            "[INFO] Video Capture is now starting please stay still\n"
          ],
          "name": "stdout"
        }
      ]
    },
    {
      "cell_type": "markdown",
      "metadata": {
        "id": "_x6ikpdCB-0V"
      },
      "source": [
        "# New Section"
      ]
    },
    {
      "cell_type": "code",
      "metadata": {
        "id": "h5hYemWDCF7e"
      },
      "source": [
        "# import dependencies\r\n",
        "from IPython.display import display, Javascript, Image\r\n",
        "from google.colab.output import eval_js\r\n",
        "from base64 import b64decode, b64encode\r\n",
        "import cv2\r\n",
        "import numpy as np\r\n",
        "import PIL\r\n",
        "import io\r\n",
        "import html\r\n",
        "import time\r\n",
        "from pathlib import Path"
      ],
      "execution_count": null,
      "outputs": []
    },
    {
      "cell_type": "code",
      "metadata": {
        "id": "zzRzNfUXjPIQ"
      },
      "source": [
        "# function to convert the JavaScript object into an OpenCV image\r\n",
        "def js_to_image(js_reply):\r\n",
        "  \"\"\"\r\n",
        "  Params:\r\n",
        "          js_reply: JavaScript object containing image from webcam\r\n",
        "  Returns:\r\n",
        "          img: OpenCV BGR image\r\n",
        "  \"\"\"\r\n",
        "  # decode base64 image\r\n",
        "  image_bytes = b64decode(js_reply.split(',')[1])\r\n",
        "  # convert bytes to numpy array\r\n",
        "  jpg_as_np = np.frombuffer(image_bytes, dtype=np.uint8)\r\n",
        "  # decode numpy array into OpenCV BGR image\r\n",
        "  img = cv2.imdecode(jpg_as_np, flags=1)\r\n",
        "\r\n",
        "  return img\r\n",
        "\r\n",
        "# function to convert OpenCV Rectangle bounding box image into base64 byte string to be overlayed on video stream\r\n",
        "def bbox_to_bytes(bbox_array):\r\n",
        "  \"\"\"\r\n",
        "  Params:\r\n",
        "          bbox_array: Numpy array (pixels) containing rectangle to overlay on video stream.\r\n",
        "  Returns:\r\n",
        "        bytes: Base64 image byte string\r\n",
        "  \"\"\"\r\n",
        "  # convert array into PIL image\r\n",
        "  bbox_PIL = PIL.Image.fromarray(bbox_array, 'RGBA')\r\n",
        "  iobuf = io.BytesIO()\r\n",
        "  # format bbox into png for return\r\n",
        "  bbox_PIL.save(iobuf, format='png')\r\n",
        "  # format return string\r\n",
        "  bbox_bytes = 'data:image/png;base64,{}'.format((str(b64encode(iobuf.getvalue()), 'utf-8')))\r\n",
        "\r\n",
        "  return bbox_bytes"
      ],
      "execution_count": null,
      "outputs": []
    },
    {
      "cell_type": "code",
      "metadata": {
        "id": "Ckz4eZRHjVlK"
      },
      "source": [
        "# initialize the Haar Cascade face detection model\r\n",
        "face_cascade = cv2.CascadeClassifier(cv2.samples.findFile(cv2.data.haarcascades + 'haarcascade_frontalface_default.xml'))"
      ],
      "execution_count": null,
      "outputs": []
    },
    {
      "cell_type": "code",
      "metadata": {
        "colab": {
          "base_uri": "https://localhost:8080/",
          "height": 255
        },
        "id": "wG5zvtbWjZEf",
        "outputId": "1a2c7d11-59b7-4a83-cedc-b034f7a7ae0f"
      },
      "source": [
        "classname=str(input('enter class name -> '))\r\n",
        "userId=input(\"enter image id -> \")\r\n",
        "Path(\"/content/drive/MyDrive/{}\".format(classname)).mkdir(parents=True, exist_ok=True)\r\n",
        "\r\n",
        "for imgId in range(4):\r\n",
        "  def take_photo(filename='photo.jpg', quality=0.8):\r\n",
        "    js = Javascript('''\r\n",
        "      async function takePhoto(quality) {\r\n",
        "        const div = document.createElement('div');\r\n",
        "        const capture = document.createElement('button');\r\n",
        "        capture.textContent = 'Capture';\r\n",
        "        div.appendChild(capture);\r\n",
        "\r\n",
        "        const video = document.createElement('video');\r\n",
        "        video.style.display = 'block';\r\n",
        "        const stream = await navigator.mediaDevices.getUserMedia({video: true});\r\n",
        "\r\n",
        "        document.body.appendChild(div);\r\n",
        "        div.appendChild(video);\r\n",
        "        video.srcObject = stream;\r\n",
        "        await video.play();\r\n",
        "\r\n",
        "        // Resize the output to fit the video element.\r\n",
        "        google.colab.output.setIframeHeight(document.documentElement.scrollHeight, true);\r\n",
        "\r\n",
        "        // Wait for Capture to be clicked.\r\n",
        "        await new Promise((resolve) => capture.onclick = resolve);\r\n",
        "\r\n",
        "        const canvas = document.createElement('canvas');\r\n",
        "        canvas.width = video.videoWidth;\r\n",
        "        canvas.height = video.videoHeight;\r\n",
        "        canvas.getContext('2d').drawImage(video, 0, 0);\r\n",
        "        stream.getVideoTracks()[0].stop();\r\n",
        "        div.remove();\r\n",
        "        return canvas.toDataURL('image/jpeg', quality);\r\n",
        "      }\r\n",
        "      ''')\r\n",
        "    display(js)\r\n",
        "\r\n",
        "    # get photo data\r\n",
        "    data = eval_js('takePhoto({})'.format(quality))\r\n",
        "    # get OpenCV format image\r\n",
        "    img = js_to_image(data) \r\n",
        "    # grayscale img\r\n",
        "    gray = cv2.cvtColor(img, cv2.COLOR_RGB2GRAY)\r\n",
        "    print(gray.shape)\r\n",
        "    # get face bounding box coordinates using Haar Cascade\r\n",
        "    faces = face_cascade.detectMultiScale(gray)\r\n",
        "    # draw face bounding box on image\r\n",
        "    for (x,y,w,h) in faces:\r\n",
        "        img = cv2.rectangle(img,(x,y),(x+w,y+h),(255,0,0),2)\r\n",
        "\r\n",
        "    # save image\r\n",
        "    cv2.imwrite(\"/content/drive/MyDrive/{}/{}_{}.jpg\".format(classname, userId, imgId), img)\r\n",
        "\r\n",
        "      #print(\"[INFO] Image {} has been saved in folder : {}\".format(imgId, classname))\r\n",
        "      #cv2.imwrite(filename, img)\r\n",
        "\r\n",
        "    return filename\r\n",
        "\r\n",
        "\r\n",
        "  try:\r\n",
        "    classname1=classname+\".jpg\"\r\n",
        "    filename = take_photo(classname1)\r\n",
        "    print('Saved to {}'.format(filename))\r\n",
        "    \r\n",
        "    # Show the image which was just taken.\r\n",
        "  \r\n",
        "    display(Image(filename))\r\n",
        "  except Exception as err:\r\n",
        "    # Errors will be thrown if the user does not have a webcam or if they do not\r\n",
        "    # grant the page permission to access it.\r\n",
        "    print(str(err))\r\n"
      ],
      "execution_count": null,
      "outputs": [
        {
          "output_type": "stream",
          "text": [
            "enter class name -> gaurav\n",
            "enter image id -> 1\n"
          ],
          "name": "stdout"
        },
        {
          "output_type": "display_data",
          "data": {
            "application/javascript": [
              "\n",
              "      async function takePhoto(quality) {\n",
              "        const div = document.createElement('div');\n",
              "        const capture = document.createElement('button');\n",
              "        capture.textContent = 'Capture';\n",
              "        div.appendChild(capture);\n",
              "\n",
              "        const video = document.createElement('video');\n",
              "        video.style.display = 'block';\n",
              "        const stream = await navigator.mediaDevices.getUserMedia({video: true});\n",
              "\n",
              "        document.body.appendChild(div);\n",
              "        div.appendChild(video);\n",
              "        video.srcObject = stream;\n",
              "        await video.play();\n",
              "\n",
              "        // Resize the output to fit the video element.\n",
              "        google.colab.output.setIframeHeight(document.documentElement.scrollHeight, true);\n",
              "\n",
              "        // Wait for Capture to be clicked.\n",
              "        await new Promise((resolve) => capture.onclick = resolve);\n",
              "\n",
              "        const canvas = document.createElement('canvas');\n",
              "        canvas.width = video.videoWidth;\n",
              "        canvas.height = video.videoHeight;\n",
              "        canvas.getContext('2d').drawImage(video, 0, 0);\n",
              "        stream.getVideoTracks()[0].stop();\n",
              "        div.remove();\n",
              "        return canvas.toDataURL('image/jpeg', quality);\n",
              "      }\n",
              "      "
            ],
            "text/plain": [
              "<IPython.core.display.Javascript object>"
            ]
          },
          "metadata": {
            "tags": []
          }
        },
        {
          "output_type": "stream",
          "text": [
            "(480, 640)\n",
            "Saved to gaurav.jpg\n"
          ],
          "name": "stdout"
        },
        {
          "output_type": "display_data",
          "data": {
            "image/png": "gaurav.jpg",
            "text/plain": [
              "<IPython.core.display.Image object>"
            ]
          },
          "metadata": {
            "tags": []
          }
        },
        {
          "output_type": "display_data",
          "data": {
            "application/javascript": [
              "\n",
              "      async function takePhoto(quality) {\n",
              "        const div = document.createElement('div');\n",
              "        const capture = document.createElement('button');\n",
              "        capture.textContent = 'Capture';\n",
              "        div.appendChild(capture);\n",
              "\n",
              "        const video = document.createElement('video');\n",
              "        video.style.display = 'block';\n",
              "        const stream = await navigator.mediaDevices.getUserMedia({video: true});\n",
              "\n",
              "        document.body.appendChild(div);\n",
              "        div.appendChild(video);\n",
              "        video.srcObject = stream;\n",
              "        await video.play();\n",
              "\n",
              "        // Resize the output to fit the video element.\n",
              "        google.colab.output.setIframeHeight(document.documentElement.scrollHeight, true);\n",
              "\n",
              "        // Wait for Capture to be clicked.\n",
              "        await new Promise((resolve) => capture.onclick = resolve);\n",
              "\n",
              "        const canvas = document.createElement('canvas');\n",
              "        canvas.width = video.videoWidth;\n",
              "        canvas.height = video.videoHeight;\n",
              "        canvas.getContext('2d').drawImage(video, 0, 0);\n",
              "        stream.getVideoTracks()[0].stop();\n",
              "        div.remove();\n",
              "        return canvas.toDataURL('image/jpeg', quality);\n",
              "      }\n",
              "      "
            ],
            "text/plain": [
              "<IPython.core.display.Javascript object>"
            ]
          },
          "metadata": {
            "tags": []
          }
        },
        {
          "output_type": "stream",
          "text": [
            "(480, 640)\n",
            "Saved to gaurav.jpg\n"
          ],
          "name": "stdout"
        },
        {
          "output_type": "display_data",
          "data": {
            "image/png": "gaurav.jpg",
            "text/plain": [
              "<IPython.core.display.Image object>"
            ]
          },
          "metadata": {
            "tags": []
          }
        },
        {
          "output_type": "display_data",
          "data": {
            "application/javascript": [
              "\n",
              "      async function takePhoto(quality) {\n",
              "        const div = document.createElement('div');\n",
              "        const capture = document.createElement('button');\n",
              "        capture.textContent = 'Capture';\n",
              "        div.appendChild(capture);\n",
              "\n",
              "        const video = document.createElement('video');\n",
              "        video.style.display = 'block';\n",
              "        const stream = await navigator.mediaDevices.getUserMedia({video: true});\n",
              "\n",
              "        document.body.appendChild(div);\n",
              "        div.appendChild(video);\n",
              "        video.srcObject = stream;\n",
              "        await video.play();\n",
              "\n",
              "        // Resize the output to fit the video element.\n",
              "        google.colab.output.setIframeHeight(document.documentElement.scrollHeight, true);\n",
              "\n",
              "        // Wait for Capture to be clicked.\n",
              "        await new Promise((resolve) => capture.onclick = resolve);\n",
              "\n",
              "        const canvas = document.createElement('canvas');\n",
              "        canvas.width = video.videoWidth;\n",
              "        canvas.height = video.videoHeight;\n",
              "        canvas.getContext('2d').drawImage(video, 0, 0);\n",
              "        stream.getVideoTracks()[0].stop();\n",
              "        div.remove();\n",
              "        return canvas.toDataURL('image/jpeg', quality);\n",
              "      }\n",
              "      "
            ],
            "text/plain": [
              "<IPython.core.display.Javascript object>"
            ]
          },
          "metadata": {
            "tags": []
          }
        },
        {
          "output_type": "stream",
          "text": [
            "(480, 640)\n",
            "Saved to gaurav.jpg\n"
          ],
          "name": "stdout"
        },
        {
          "output_type": "display_data",
          "data": {
            "image/png": "gaurav.jpg",
            "text/plain": [
              "<IPython.core.display.Image object>"
            ]
          },
          "metadata": {
            "tags": []
          }
        },
        {
          "output_type": "display_data",
          "data": {
            "application/javascript": [
              "\n",
              "      async function takePhoto(quality) {\n",
              "        const div = document.createElement('div');\n",
              "        const capture = document.createElement('button');\n",
              "        capture.textContent = 'Capture';\n",
              "        div.appendChild(capture);\n",
              "\n",
              "        const video = document.createElement('video');\n",
              "        video.style.display = 'block';\n",
              "        const stream = await navigator.mediaDevices.getUserMedia({video: true});\n",
              "\n",
              "        document.body.appendChild(div);\n",
              "        div.appendChild(video);\n",
              "        video.srcObject = stream;\n",
              "        await video.play();\n",
              "\n",
              "        // Resize the output to fit the video element.\n",
              "        google.colab.output.setIframeHeight(document.documentElement.scrollHeight, true);\n",
              "\n",
              "        // Wait for Capture to be clicked.\n",
              "        await new Promise((resolve) => capture.onclick = resolve);\n",
              "\n",
              "        const canvas = document.createElement('canvas');\n",
              "        canvas.width = video.videoWidth;\n",
              "        canvas.height = video.videoHeight;\n",
              "        canvas.getContext('2d').drawImage(video, 0, 0);\n",
              "        stream.getVideoTracks()[0].stop();\n",
              "        div.remove();\n",
              "        return canvas.toDataURL('image/jpeg', quality);\n",
              "      }\n",
              "      "
            ],
            "text/plain": [
              "<IPython.core.display.Javascript object>"
            ]
          },
          "metadata": {
            "tags": []
          }
        },
        {
          "output_type": "stream",
          "text": [
            "(480, 640)\n",
            "Saved to gaurav.jpg\n"
          ],
          "name": "stdout"
        },
        {
          "output_type": "display_data",
          "data": {
            "image/png": "gaurav.jpg",
            "text/plain": [
              "<IPython.core.display.Image object>"
            ]
          },
          "metadata": {
            "tags": []
          }
        }
      ]
    }
  ]
}